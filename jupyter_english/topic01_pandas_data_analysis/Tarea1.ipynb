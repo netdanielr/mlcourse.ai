{
  "cells": [
    {
      "metadata": {
        "_uuid": "8f2839f25d086af736a60e9eeb907d3b93b6e0e5",
        "_cell_guid": "b1076dfc-b9ad-4769-8c92-a6c4dae69d19",
        "trusted": true
      },
      "cell_type": "code",
      "source": "# This Python 3 environment comes with many helpful analytics libraries installed\n# It is defined by the kaggle/python docker image: https://github.com/kaggle/docker-python\n# For example, here's several helpful packages to load in \n\nimport numpy as np # linear algebra\nimport pandas as pd # data processing, CSV file I/O (e.g. pd.read_csv)\n\n# Input data files are available in the \"../input/\" directory.\n# For example, running this (by clicking run or pressing Shift+Enter) will list the files in the input directory\n\nimport os\nprint(os.listdir(\"../input\"))\n\n# Any results you write to the current directory are saved as output.",
      "execution_count": 1,
      "outputs": [
        {
          "output_type": "stream",
          "text": "['athlete_events.csv', 'noc_regions.csv']\n",
          "name": "stdout"
        }
      ]
    },
    {
      "metadata": {
        "_uuid": "ff1efaf13f783fda889b88ad0b5ecaca2879d81f"
      },
      "cell_type": "markdown",
      "source": "* ID - Unique number for each athlete\n* Name - Athlete's name\n* Sex - M or F\n* Age - Integer\n* Height - In centimeters\n* Weight - In kilograms\n* Team - Team name\n* NOC - National Olympic Committee 3-letter code\n* Games - Year and season\n* Year - Integer\n* Season - Summer or Winter\n* City - Host city\n* Sport - Sport\n* Event - Event\n* Medal - Gold, Silver, Bronze, or NA"
    },
    {
      "metadata": {
        "_cell_guid": "79c7e3d0-c299-4dcb-8224-4455121ee9b0",
        "_uuid": "d629ff2d2480ee46fbb7e2d37f6b5fab8052498a",
        "trusted": true
      },
      "cell_type": "code",
      "source": "import pandas as pd",
      "execution_count": 2,
      "outputs": []
    },
    {
      "metadata": {
        "trusted": true,
        "_uuid": "a9a60ca7eecab23a9b0336c7778fed6709759e84"
      },
      "cell_type": "code",
      "source": "dataevents = pd.read_csv(\"../input/athlete_events.csv\")\ndataregions = pd.read_csv(\"../input/noc_regions.csv\")",
      "execution_count": 3,
      "outputs": []
    },
    {
      "metadata": {
        "trusted": true,
        "_uuid": "f8df11ebff61cb670965b8b2213eba729f9f14db"
      },
      "cell_type": "code",
      "source": "dataevents.head()",
      "execution_count": 4,
      "outputs": [
        {
          "output_type": "execute_result",
          "execution_count": 4,
          "data": {
            "text/plain": "   ID                      Name  ...                               Event  Medal\n0   1                 A Dijiang  ...         Basketball Men's Basketball    NaN\n1   2                  A Lamusi  ...        Judo Men's Extra-Lightweight    NaN\n2   3       Gunnar Nielsen Aaby  ...             Football Men's Football    NaN\n3   4      Edgar Lindenau Aabye  ...         Tug-Of-War Men's Tug-Of-War   Gold\n4   5  Christine Jacoba Aaftink  ...    Speed Skating Women's 500 metres    NaN\n\n[5 rows x 15 columns]",
            "text/html": "<div>\n<style scoped>\n    .dataframe tbody tr th:only-of-type {\n        vertical-align: middle;\n    }\n\n    .dataframe tbody tr th {\n        vertical-align: top;\n    }\n\n    .dataframe thead th {\n        text-align: right;\n    }\n</style>\n<table border=\"1\" class=\"dataframe\">\n  <thead>\n    <tr style=\"text-align: right;\">\n      <th></th>\n      <th>ID</th>\n      <th>Name</th>\n      <th>Sex</th>\n      <th>Age</th>\n      <th>Height</th>\n      <th>Weight</th>\n      <th>Team</th>\n      <th>NOC</th>\n      <th>Games</th>\n      <th>Year</th>\n      <th>Season</th>\n      <th>City</th>\n      <th>Sport</th>\n      <th>Event</th>\n      <th>Medal</th>\n    </tr>\n  </thead>\n  <tbody>\n    <tr>\n      <th>0</th>\n      <td>1</td>\n      <td>A Dijiang</td>\n      <td>M</td>\n      <td>24.0</td>\n      <td>180.0</td>\n      <td>80.0</td>\n      <td>China</td>\n      <td>CHN</td>\n      <td>1992 Summer</td>\n      <td>1992</td>\n      <td>Summer</td>\n      <td>Barcelona</td>\n      <td>Basketball</td>\n      <td>Basketball Men's Basketball</td>\n      <td>NaN</td>\n    </tr>\n    <tr>\n      <th>1</th>\n      <td>2</td>\n      <td>A Lamusi</td>\n      <td>M</td>\n      <td>23.0</td>\n      <td>170.0</td>\n      <td>60.0</td>\n      <td>China</td>\n      <td>CHN</td>\n      <td>2012 Summer</td>\n      <td>2012</td>\n      <td>Summer</td>\n      <td>London</td>\n      <td>Judo</td>\n      <td>Judo Men's Extra-Lightweight</td>\n      <td>NaN</td>\n    </tr>\n    <tr>\n      <th>2</th>\n      <td>3</td>\n      <td>Gunnar Nielsen Aaby</td>\n      <td>M</td>\n      <td>24.0</td>\n      <td>NaN</td>\n      <td>NaN</td>\n      <td>Denmark</td>\n      <td>DEN</td>\n      <td>1920 Summer</td>\n      <td>1920</td>\n      <td>Summer</td>\n      <td>Antwerpen</td>\n      <td>Football</td>\n      <td>Football Men's Football</td>\n      <td>NaN</td>\n    </tr>\n    <tr>\n      <th>3</th>\n      <td>4</td>\n      <td>Edgar Lindenau Aabye</td>\n      <td>M</td>\n      <td>34.0</td>\n      <td>NaN</td>\n      <td>NaN</td>\n      <td>Denmark/Sweden</td>\n      <td>DEN</td>\n      <td>1900 Summer</td>\n      <td>1900</td>\n      <td>Summer</td>\n      <td>Paris</td>\n      <td>Tug-Of-War</td>\n      <td>Tug-Of-War Men's Tug-Of-War</td>\n      <td>Gold</td>\n    </tr>\n    <tr>\n      <th>4</th>\n      <td>5</td>\n      <td>Christine Jacoba Aaftink</td>\n      <td>F</td>\n      <td>21.0</td>\n      <td>185.0</td>\n      <td>82.0</td>\n      <td>Netherlands</td>\n      <td>NED</td>\n      <td>1988 Winter</td>\n      <td>1988</td>\n      <td>Winter</td>\n      <td>Calgary</td>\n      <td>Speed Skating</td>\n      <td>Speed Skating Women's 500 metres</td>\n      <td>NaN</td>\n    </tr>\n  </tbody>\n</table>\n</div>"
          },
          "metadata": {}
        }
      ]
    },
    {
      "metadata": {
        "trusted": true,
        "_uuid": "3d5cb99c853d7b8e9db7cd36933e96ab328a2a97"
      },
      "cell_type": "code",
      "source": "dataevents.info()",
      "execution_count": 5,
      "outputs": [
        {
          "output_type": "stream",
          "text": "<class 'pandas.core.frame.DataFrame'>\nRangeIndex: 271116 entries, 0 to 271115\nData columns (total 15 columns):\nID        271116 non-null int64\nName      271116 non-null object\nSex       271116 non-null object\nAge       261642 non-null float64\nHeight    210945 non-null float64\nWeight    208241 non-null float64\nTeam      271116 non-null object\nNOC       271116 non-null object\nGames     271116 non-null object\nYear      271116 non-null int64\nSeason    271116 non-null object\nCity      271116 non-null object\nSport     271116 non-null object\nEvent     271116 non-null object\nMedal     39783 non-null object\ndtypes: float64(3), int64(2), object(10)\nmemory usage: 31.0+ MB\n",
          "name": "stdout"
        }
      ]
    },
    {
      "metadata": {
        "trusted": true,
        "_uuid": "01cf3034ab6471f0fb07ced44df42fb794d7b217"
      },
      "cell_type": "code",
      "source": "dataregions.head()",
      "execution_count": 6,
      "outputs": [
        {
          "output_type": "execute_result",
          "execution_count": 6,
          "data": {
            "text/plain": "   NOC       region                 notes\n0  AFG  Afghanistan                   NaN\n1  AHO      Curacao  Netherlands Antilles\n2  ALB      Albania                   NaN\n3  ALG      Algeria                   NaN\n4  AND      Andorra                   NaN",
            "text/html": "<div>\n<style scoped>\n    .dataframe tbody tr th:only-of-type {\n        vertical-align: middle;\n    }\n\n    .dataframe tbody tr th {\n        vertical-align: top;\n    }\n\n    .dataframe thead th {\n        text-align: right;\n    }\n</style>\n<table border=\"1\" class=\"dataframe\">\n  <thead>\n    <tr style=\"text-align: right;\">\n      <th></th>\n      <th>NOC</th>\n      <th>region</th>\n      <th>notes</th>\n    </tr>\n  </thead>\n  <tbody>\n    <tr>\n      <th>0</th>\n      <td>AFG</td>\n      <td>Afghanistan</td>\n      <td>NaN</td>\n    </tr>\n    <tr>\n      <th>1</th>\n      <td>AHO</td>\n      <td>Curacao</td>\n      <td>Netherlands Antilles</td>\n    </tr>\n    <tr>\n      <th>2</th>\n      <td>ALB</td>\n      <td>Albania</td>\n      <td>NaN</td>\n    </tr>\n    <tr>\n      <th>3</th>\n      <td>ALG</td>\n      <td>Algeria</td>\n      <td>NaN</td>\n    </tr>\n    <tr>\n      <th>4</th>\n      <td>AND</td>\n      <td>Andorra</td>\n      <td>NaN</td>\n    </tr>\n  </tbody>\n</table>\n</div>"
          },
          "metadata": {}
        }
      ]
    },
    {
      "metadata": {
        "trusted": true,
        "_uuid": "9fc552770908f945da6cba4e4cfdb140e662d1d0"
      },
      "cell_type": "code",
      "source": "dataevents.Sex.unique()",
      "execution_count": 7,
      "outputs": [
        {
          "output_type": "execute_result",
          "execution_count": 7,
          "data": {
            "text/plain": "array(['M', 'F'], dtype=object)"
          },
          "metadata": {}
        }
      ]
    },
    {
      "metadata": {
        "trusted": true,
        "_uuid": "0fc65b32cf9ca856e70aeb42142a282a20bd2dca"
      },
      "cell_type": "code",
      "source": "dataregions.info()",
      "execution_count": 8,
      "outputs": [
        {
          "output_type": "stream",
          "text": "<class 'pandas.core.frame.DataFrame'>\nRangeIndex: 230 entries, 0 to 229\nData columns (total 3 columns):\nNOC       230 non-null object\nregion    227 non-null object\nnotes     21 non-null object\ndtypes: object(3)\nmemory usage: 5.5+ KB\n",
          "name": "stdout"
        }
      ]
    },
    {
      "metadata": {
        "trusted": true,
        "_uuid": "2698153c9faa1c339bdf51bb56a7c5c98603fd91"
      },
      "cell_type": "code",
      "source": "#list(dataevents.Name.unique())",
      "execution_count": 9,
      "outputs": []
    },
    {
      "metadata": {
        "_uuid": "80b3818da2f88995aff919bbfdffc318bd43e42d"
      },
      "cell_type": "markdown",
      "source": "1.  How old were the youngest male and female participants of the 1996 Olympics?\n\n * 16 and 15\n * 14 and 12\n * 16 and 12\n * 13 and 11"
    },
    {
      "metadata": {
        "trusted": true,
        "_uuid": "debd752b6df6385d6d72cfbac34261a134ca49e8"
      },
      "cell_type": "code",
      "source": "dataevents[dataevents['Year']==1996].groupby([\"Sex\"])[\"Age\"].min()",
      "execution_count": 10,
      "outputs": [
        {
          "output_type": "execute_result",
          "execution_count": 10,
          "data": {
            "text/plain": "Sex\nF    12.0\nM    14.0\nName: Age, dtype: float64"
          },
          "metadata": {}
        }
      ]
    },
    {
      "metadata": {
        "trusted": true,
        "_uuid": "62a588f699be5f41431ad30d0c9daa75f8dfd603"
      },
      "cell_type": "code",
      "source": "def fdistribucion(base,decimales):\n    cont = 0\n    for i in lista_variables:\n        cont = cont + 1\n        print(\"------------------------------------------------------\")\n        print(str(cont),\". Var: \",i, sep = \"\")\n        print(pd.concat([pd.DataFrame(base[:][i].value_counts(dropna = False).index, columns = ['Atributo']),\n               pd.DataFrame(base[:][i].value_counts(dropna = False).values, columns = ['Cantidad']),\n               pd.DataFrame(np.round(100*base[:][i].value_counts(dropna = False).values/len(base),decimales), columns = ['%Total'])], axis = 1))",
      "execution_count": 11,
      "outputs": []
    },
    {
      "metadata": {
        "trusted": true,
        "_uuid": "146e301c7b9fc7bd8efd9a0382d79f6db0ed6c0f"
      },
      "cell_type": "code",
      "source": "lista_variables = ['Sport']",
      "execution_count": 12,
      "outputs": []
    },
    {
      "metadata": {
        "_uuid": "514bf9a19b527ce7f8858dc3db9c9b45a9353a74"
      },
      "cell_type": "markdown",
      "source": "\n2. What was the percentage of male gymnasts among all the male participants of the 2000 Olympics? Round the answer to the first decimal.\n\nHint: here and further if needed drop duplicated sportsmen to count only unique ones.\n\n*         0.2\n*         1.5\n*         2.5\n*         7.7"
    },
    {
      "metadata": {
        "trusted": true,
        "_uuid": "a3c20d88459fa953cc36ecadfbf691198b4703b0"
      },
      "cell_type": "code",
      "source": "fdistribucion(dataevents[(dataevents['Year'] ==2000) & (dataevents['Sex'] == 'M')].drop_duplicates(subset=['Name']),1)",
      "execution_count": 13,
      "outputs": [
        {
          "output_type": "stream",
          "text": "------------------------------------------------------\n1. Var: Sport\n             Atributo  Cantidad  %Total\n0           Athletics      1257    19.1\n1            Swimming       558     8.5\n2              Rowing       363     5.5\n3             Cycling       341     5.2\n4           Wrestling       314     4.8\n5              Boxing       307     4.7\n6             Sailing       307     4.7\n7            Football       266     4.0\n8            Shooting       262     4.0\n9            Canoeing       249     3.8\n10               Judo       236     3.6\n11           Baseball       192     2.9\n12             Hockey       191     2.9\n13           Handball       177     2.7\n14      Weightlifting       161     2.4\n15         Water Polo       153     2.3\n16         Basketball       144     2.2\n17         Volleyball       141     2.1\n18            Fencing       134     2.0\n19      Equestrianism       128     1.9\n20         Gymnastics        97     1.5\n21             Tennis        93     1.4\n22       Table Tennis        86     1.3\n23          Badminton        85     1.3\n24             Diving        80     1.2\n25            Archery        64     1.0\n26          Taekwondo        54     0.8\n27          Triathlon        52     0.8\n28   Beach Volleyball        48     0.7\n29  Modern Pentathlon        24     0.4\n30       Trampolining        12     0.2\n",
          "name": "stdout"
        }
      ]
    },
    {
      "metadata": {
        "_uuid": "931363f0776ed7c1c4cf436fa10cff98f1298c66"
      },
      "cell_type": "markdown",
      "source": "\n**3. What are the mean and standard deviation of height for female basketball players participated in the 2000 Olympics? Round the answer to the first decimal.**\n\n*     178.5 and 7.2\n*     179.4 and 10\n*     180.7 and 6.7\n*     182.4 and 9.1"
    },
    {
      "metadata": {
        "trusted": true,
        "_uuid": "85ada7d94cc166ad7e7c4279fda09c525110aed5"
      },
      "cell_type": "code",
      "source": "devent2=dataevents[(dataevents['Year']==2000) & (dataevents['Sex']=='F')  & (dataevents['Sport']=='Basketball') ]\nnp.round(devent2.groupby([\"Sport\"])[\"Height\"].mean())",
      "execution_count": 14,
      "outputs": [
        {
          "output_type": "execute_result",
          "execution_count": 14,
          "data": {
            "text/plain": "Sport\nBasketball    182.0\nName: Height, dtype: float64"
          },
          "metadata": {}
        }
      ]
    },
    {
      "metadata": {
        "trusted": true,
        "_uuid": "a55270e87eb8a9f9d6b6eb2ee085edca0dfe60df"
      },
      "cell_type": "code",
      "source": "np.round(devent2.groupby([\"Sport\"])[\"Height\"].std(),1)",
      "execution_count": 15,
      "outputs": [
        {
          "output_type": "execute_result",
          "execution_count": 15,
          "data": {
            "text/plain": "Sport\nBasketball    9.1\nName: Height, dtype: float64"
          },
          "metadata": {}
        }
      ]
    },
    {
      "metadata": {
        "_uuid": "1278dd8b38a9c415a1e5195dfd8d3aa4ed3a128a"
      },
      "cell_type": "markdown",
      "source": "\n**4. Find a sportsperson participated in the 2002 Olympics, with the highest weight among other participants of the same Olympics. What sport did he or she do?**\n\n*     Judo\n*     Bobsleigh\n*     Weightlifting\n*     Boxing"
    },
    {
      "metadata": {
        "trusted": true,
        "_uuid": "31b0b37a4ea2e96bfc0a70e8fc3b8a18c938e74f"
      },
      "cell_type": "code",
      "source": "dataevents[(dataevents['Year'] == 2002)]['Weight'].max()",
      "execution_count": 16,
      "outputs": [
        {
          "output_type": "execute_result",
          "execution_count": 16,
          "data": {
            "text/plain": "123.0"
          },
          "metadata": {}
        }
      ]
    },
    {
      "metadata": {
        "trusted": true,
        "_uuid": "a1f996766ab90420dbe77b5e7af25f5fdbcdb323"
      },
      "cell_type": "code",
      "source": "dataevents[(dataevents['Year'] == 2002) & (dataevents['Weight'] == 123.0)]['Sport']",
      "execution_count": 17,
      "outputs": [
        {
          "output_type": "execute_result",
          "execution_count": 17,
          "data": {
            "text/plain": "99154    Bobsleigh\nName: Sport, dtype: object"
          },
          "metadata": {}
        }
      ]
    },
    {
      "metadata": {
        "_uuid": "6dd8c7f66282817aa6f97d2648473aad3e7e0785"
      },
      "cell_type": "markdown",
      "source": "**5. How many times did Pawe Abratkiewicz participate in the Olympics held in different years?**\n\n*     0\n*     1\n*     2\n*     3"
    },
    {
      "metadata": {
        "trusted": true,
        "scrolled": true,
        "_uuid": "5bd272d3fdf01704e4bbc8906369e793eb28156b"
      },
      "cell_type": "code",
      "source": "dataevents.Sport.unique()",
      "execution_count": 18,
      "outputs": [
        {
          "output_type": "execute_result",
          "execution_count": 18,
          "data": {
            "text/plain": "array(['Basketball', 'Judo', 'Football', 'Tug-Of-War', 'Speed Skating',\n       'Cross Country Skiing', 'Athletics', 'Ice Hockey', 'Swimming',\n       'Badminton', 'Sailing', 'Biathlon', 'Gymnastics',\n       'Art Competitions', 'Alpine Skiing', 'Handball', 'Weightlifting',\n       'Wrestling', 'Luge', 'Water Polo', 'Hockey', 'Rowing', 'Bobsleigh',\n       'Fencing', 'Equestrianism', 'Shooting', 'Boxing', 'Taekwondo',\n       'Cycling', 'Diving', 'Canoeing', 'Tennis', 'Modern Pentathlon',\n       'Figure Skating', 'Golf', 'Softball', 'Archery', 'Volleyball',\n       'Synchronized Swimming', 'Table Tennis', 'Nordic Combined',\n       'Baseball', 'Rhythmic Gymnastics', 'Freestyle Skiing',\n       'Rugby Sevens', 'Trampolining', 'Beach Volleyball', 'Triathlon',\n       'Ski Jumping', 'Curling', 'Snowboarding', 'Rugby',\n       'Short Track Speed Skating', 'Skeleton', 'Lacrosse', 'Polo',\n       'Cricket', 'Racquets', 'Motorboating', 'Military Ski Patrol',\n       'Croquet', 'Jeu De Paume', 'Roque', 'Alpinism', 'Basque Pelota',\n       'Aeronautics'], dtype=object)"
          },
          "metadata": {}
        }
      ]
    },
    {
      "metadata": {
        "trusted": true,
        "_uuid": "b47cb2fdf298f4bc48c6d8a6129c60a424f67e89"
      },
      "cell_type": "code",
      "source": "devent5=dataevents[(dataevents['Name']=='Pawe Abratkiewicz')  ]",
      "execution_count": 19,
      "outputs": []
    },
    {
      "metadata": {
        "trusted": true,
        "_uuid": "bcf3ab47fed27275aed9e932ad9a5720a3ca154a"
      },
      "cell_type": "code",
      "source": "devent5.Year.unique()",
      "execution_count": 20,
      "outputs": [
        {
          "output_type": "execute_result",
          "execution_count": 20,
          "data": {
            "text/plain": "array([1992, 1998, 2002])"
          },
          "metadata": {}
        }
      ]
    },
    {
      "metadata": {
        "_uuid": "ae91b6248a36fa32e5ff3ed096ed576e1030f725"
      },
      "cell_type": "markdown",
      "source": "**6. How many silver medals in tennis did Australia win at the 2000 Olympics?**\n\n*     0\n*     1\n*     2\n*     3"
    },
    {
      "metadata": {
        "trusted": true,
        "_uuid": "8009d8cc677e5e5b961d6bb7fe788ffeb78c8699"
      },
      "cell_type": "code",
      "source": "devent6=dataevents[(dataevents['Year']==2000) & (dataevents['Team']=='Australia') &  (dataevents['Sport']=='Tennis') &  (dataevents['Medal']=='Silver')]",
      "execution_count": 21,
      "outputs": []
    },
    {
      "metadata": {
        "trusted": true,
        "_uuid": "e78b24ca9808db260dd2ecdc93ad528a80895ed3"
      },
      "cell_type": "code",
      "source": "print('cantidad de medallas: ',devent6['Medal'].value_counts())\ndevent6.head()",
      "execution_count": 22,
      "outputs": [
        {
          "output_type": "stream",
          "text": "cantidad de medallas:  Silver    2\nName: Medal, dtype: int64\n",
          "name": "stdout"
        },
        {
          "output_type": "execute_result",
          "execution_count": 22,
          "data": {
            "text/plain": "            ID                    Name   ...                   Event   Medal\n262820  131504  Todd Andrew Woodbridge   ...    Tennis Men's Doubles  Silver\n262831  131511  Mark Raymond Woodforde   ...    Tennis Men's Doubles  Silver\n\n[2 rows x 15 columns]",
            "text/html": "<div>\n<style scoped>\n    .dataframe tbody tr th:only-of-type {\n        vertical-align: middle;\n    }\n\n    .dataframe tbody tr th {\n        vertical-align: top;\n    }\n\n    .dataframe thead th {\n        text-align: right;\n    }\n</style>\n<table border=\"1\" class=\"dataframe\">\n  <thead>\n    <tr style=\"text-align: right;\">\n      <th></th>\n      <th>ID</th>\n      <th>Name</th>\n      <th>Sex</th>\n      <th>Age</th>\n      <th>Height</th>\n      <th>Weight</th>\n      <th>Team</th>\n      <th>NOC</th>\n      <th>Games</th>\n      <th>Year</th>\n      <th>Season</th>\n      <th>City</th>\n      <th>Sport</th>\n      <th>Event</th>\n      <th>Medal</th>\n    </tr>\n  </thead>\n  <tbody>\n    <tr>\n      <th>262820</th>\n      <td>131504</td>\n      <td>Todd Andrew Woodbridge</td>\n      <td>M</td>\n      <td>29.0</td>\n      <td>178.0</td>\n      <td>75.0</td>\n      <td>Australia</td>\n      <td>AUS</td>\n      <td>2000 Summer</td>\n      <td>2000</td>\n      <td>Summer</td>\n      <td>Sydney</td>\n      <td>Tennis</td>\n      <td>Tennis Men's Doubles</td>\n      <td>Silver</td>\n    </tr>\n    <tr>\n      <th>262831</th>\n      <td>131511</td>\n      <td>Mark Raymond Woodforde</td>\n      <td>M</td>\n      <td>34.0</td>\n      <td>183.0</td>\n      <td>80.0</td>\n      <td>Australia</td>\n      <td>AUS</td>\n      <td>2000 Summer</td>\n      <td>2000</td>\n      <td>Summer</td>\n      <td>Sydney</td>\n      <td>Tennis</td>\n      <td>Tennis Men's Doubles</td>\n      <td>Silver</td>\n    </tr>\n  </tbody>\n</table>\n</div>"
          },
          "metadata": {}
        }
      ]
    },
    {
      "metadata": {
        "trusted": true,
        "_uuid": "d048d55291956bce8f8cacdeb47ef42e2c51d8c4"
      },
      "cell_type": "markdown",
      "source": "**7. Is it true that Switzerland won fewer medals than Serbia at the 2016 Olympics? Do not consider NaN values in Medal column.**\n*     Yes\n*     No"
    },
    {
      "metadata": {
        "trusted": true,
        "_uuid": "197cb4079c9c9fc725d7a9a633f8c9da4c426c36"
      },
      "cell_type": "code",
      "source": "devent7=dataevents[(dataevents['Year']==2016) & (dataevents['Team']=='Switzerland') ] #\ndevent7.Medal.count()",
      "execution_count": 23,
      "outputs": [
        {
          "output_type": "execute_result",
          "execution_count": 23,
          "data": {
            "text/plain": "11"
          },
          "metadata": {}
        }
      ]
    },
    {
      "metadata": {
        "trusted": true,
        "_uuid": "50dcca41ff1eb4ba4e61526517bc5858be783b4c"
      },
      "cell_type": "code",
      "source": "devent7=dataevents[(dataevents['Year']==2016) & (dataevents['Team']=='Serbia') ] #\ndevent7.Medal.count()",
      "execution_count": 24,
      "outputs": [
        {
          "output_type": "execute_result",
          "execution_count": 24,
          "data": {
            "text/plain": "54"
          },
          "metadata": {}
        }
      ]
    },
    {
      "metadata": {
        "trusted": true,
        "_uuid": "5606d6724d1cfeac8c9a0c45384ed5b54d9d7f75"
      },
      "cell_type": "markdown",
      "source": "**8. ¿A qué categoría de edad pertenecían la menor cantidad y la mayoría de los participantes de los Juegos Olímpicos de 2014?**\n*     [45-55] y [25-35] correspondientemente\n*     [45-55] y [15-25] correspondientemente\n*     [35-45) y [25-35] correspondientemente\n*     [45-55] y [35-45] correspondientemente"
    },
    {
      "metadata": {
        "trusted": true,
        "_uuid": "49014be5f4ef30b14b64089ff4400d0d037b6ec4"
      },
      "cell_type": "code",
      "source": "bins = [15, 25, 35,45,55] \ndataevents['age_bin'] = pd.cut(dataevents['Age'], bins = bins,right = True)",
      "execution_count": 25,
      "outputs": []
    },
    {
      "metadata": {
        "trusted": true,
        "_uuid": "2a918289b3cc708c46dce6d5eb5d378c76501be4"
      },
      "cell_type": "code",
      "source": "dataevents[(dataevents['Year'] ==2014) ].agg(['min','max'])['Age']",
      "execution_count": 26,
      "outputs": [
        {
          "output_type": "execute_result",
          "execution_count": 26,
          "data": {
            "text/plain": "min    15.0\nmax    55.0\nName: Age, dtype: float64"
          },
          "metadata": {}
        }
      ]
    },
    {
      "metadata": {
        "trusted": true,
        "_uuid": "5c71f45705df9194913c26ab9fac6aae015ed55a"
      },
      "cell_type": "code",
      "source": "list(dataevents.age_bin.unique())",
      "execution_count": 27,
      "outputs": [
        {
          "output_type": "execute_result",
          "execution_count": 27,
          "data": {
            "text/plain": "[Interval(15, 25, closed='right'),\n Interval(25, 35, closed='right'),\n Interval(45, 55, closed='right'),\n Interval(35, 45, closed='right'),\n nan]"
          },
          "metadata": {}
        }
      ]
    },
    {
      "metadata": {
        "trusted": true,
        "_uuid": "b7aa0e67d8753182352790cb170c2a20507b8d01"
      },
      "cell_type": "code",
      "source": "p4=dataevents[(dataevents['Year'] ==2014) ]\np4.groupby([\"age_bin\"])[\"Age\"].count()",
      "execution_count": 28,
      "outputs": [
        {
          "output_type": "execute_result",
          "execution_count": 28,
          "data": {
            "text/plain": "age_bin\n(15, 25]    2412\n(25, 35]    2281\n(35, 45]     184\n(45, 55]       4\nName: Age, dtype: int64"
          },
          "metadata": {}
        }
      ]
    },
    {
      "metadata": {
        "trusted": true,
        "_uuid": "7125888433e39cc338724113a4349a6d7540cd87"
      },
      "cell_type": "code",
      "source": "lista_variables= ['Age']\nfdistribucion(dataevents[(dataevents['Year'] ==2014) ],1)",
      "execution_count": 29,
      "outputs": [
        {
          "output_type": "stream",
          "text": "------------------------------------------------------\n1. Var: Age\n    Atributo  Cantidad  %Total\n0       24.0       420     8.6\n1       23.0       396     8.1\n2       25.0       395     8.1\n3       26.0       384     7.9\n4       28.0       376     7.7\n5       27.0       363     7.4\n6       22.0       361     7.4\n7       29.0       282     5.8\n8       21.0       280     5.7\n9       30.0       242     4.9\n10      20.0       206     4.2\n11      31.0       201     4.1\n12      19.0       142     2.9\n13      32.0       142     2.9\n14      33.0       135     2.8\n15      18.0       130     2.7\n16      35.0        82     1.7\n17      34.0        74     1.5\n18      36.0        70     1.4\n19      17.0        58     1.2\n20      37.0        30     0.6\n21      38.0        25     0.5\n22      16.0        24     0.5\n23      40.0        18     0.4\n24      39.0        14     0.3\n25      41.0        14     0.3\n26      15.0        10     0.2\n27      42.0         6     0.1\n28      43.0         3     0.1\n29      44.0         3     0.1\n30      45.0         1     0.0\n31      55.0         1     0.0\n32      47.0         1     0.0\n33      46.0         1     0.0\n34      48.0         1     0.0\n",
          "name": "stdout"
        }
      ]
    },
    {
      "metadata": {
        "_uuid": "48edd1c7ed3125c7da097cd8589c1fd96823b958"
      },
      "cell_type": "markdown",
      "source": "**9. ¿Es cierto que hubo Olimpiadas de Verano en Lake Placid? ¿Es verdad que hubo Olimpiadas de Invierno en Sankt Moritz?**\n\n*     Sí Sí\n*     Si no\n*     No si\n*     No no"
    },
    {
      "metadata": {
        "trusted": true,
        "_uuid": "df37110039e3f71c68903e398668ca7754327f9a"
      },
      "cell_type": "code",
      "source": "dataevents[(dataevents['Season']=='Summer') & (dataevents['City']=='Lake Placid') ].City.unique()",
      "execution_count": 30,
      "outputs": [
        {
          "output_type": "execute_result",
          "execution_count": 30,
          "data": {
            "text/plain": "array([], dtype=object)"
          },
          "metadata": {}
        }
      ]
    },
    {
      "metadata": {
        "trusted": true,
        "_uuid": "12527575e0c9c59f5c888f0d03bb60ed56f2afeb"
      },
      "cell_type": "code",
      "source": "dataevents[(dataevents['Season']=='Winter') & (dataevents['City']=='Sankt Moritz')  ].City.unique()",
      "execution_count": 31,
      "outputs": [
        {
          "output_type": "execute_result",
          "execution_count": 31,
          "data": {
            "text/plain": "array(['Sankt Moritz'], dtype=object)"
          },
          "metadata": {}
        }
      ]
    },
    {
      "metadata": {
        "trusted": true,
        "_uuid": "bc407f89b9cefbe84d4a07ffc1436f45fcfa0eff"
      },
      "cell_type": "code",
      "source": "#& (dataevents['City']=='Lake Placid')\ndataevents.City.unique()",
      "execution_count": 32,
      "outputs": [
        {
          "output_type": "execute_result",
          "execution_count": 32,
          "data": {
            "text/plain": "array(['Barcelona', 'London', 'Antwerpen', 'Paris', 'Calgary',\n       'Albertville', 'Lillehammer', 'Los Angeles', 'Salt Lake City',\n       'Helsinki', 'Lake Placid', 'Sydney', 'Atlanta', 'Stockholm',\n       'Sochi', 'Nagano', 'Torino', 'Beijing', 'Rio de Janeiro', 'Athina',\n       'Squaw Valley', 'Innsbruck', 'Sarajevo', 'Mexico City', 'Munich',\n       'Seoul', 'Berlin', 'Oslo', \"Cortina d'Ampezzo\", 'Melbourne',\n       'Roma', 'Amsterdam', 'Montreal', 'Moskva', 'Tokyo', 'Vancouver',\n       'Grenoble', 'Sapporo', 'Chamonix', 'St. Louis', 'Sankt Moritz',\n       'Garmisch-Partenkirchen'], dtype=object)"
          },
          "metadata": {}
        }
      ]
    },
    {
      "metadata": {
        "_uuid": "900814b297d0563c8ce0c0491562aa4e0d123ff8"
      },
      "cell_type": "markdown",
      "source": "**10. ¿Cuál es la diferencia absoluta entre el número de deportes únicos en los Juegos Olímpicos de 1995 y los Juegos Olímpicos de 2016? **"
    },
    {
      "metadata": {
        "trusted": true,
        "_uuid": "9a6f43436ed3320c526fa34b9c77cd72ec084dbc"
      },
      "cell_type": "code",
      "source": "a=dataevents[(dataevents['Year']==1995) ].Sport.unique()\na=pd.DataFrame(a)\na=a.count()",
      "execution_count": 33,
      "outputs": []
    },
    {
      "metadata": {
        "trusted": true,
        "_uuid": "bd0aeb1d0033c671860bcc81a5d265c3e2ecf71e"
      },
      "cell_type": "code",
      "source": "d=dataevents[(dataevents['Year']==2016) ].Sport.unique()\nd=pd.DataFrame(d)\nd=d.count()",
      "execution_count": 34,
      "outputs": []
    },
    {
      "metadata": {
        "trusted": true,
        "_uuid": "f39be51ad5efe0dbcf1f98c2ce11b80e2350cd6a"
      },
      "cell_type": "code",
      "source": "np.abs(a-d)",
      "execution_count": 35,
      "outputs": [
        {
          "output_type": "execute_result",
          "execution_count": 35,
          "data": {
            "text/plain": "0    34\ndtype: int64"
          },
          "metadata": {}
        }
      ]
    }
  ],
  "metadata": {
    "kernelspec": {
      "display_name": "Python 3",
      "language": "python",
      "name": "python3"
    },
    "language_info": {
      "name": "python",
      "version": "3.6.6",
      "mimetype": "text/x-python",
      "codemirror_mode": {
        "name": "ipython",
        "version": 3
      },
      "pygments_lexer": "ipython3",
      "nbconvert_exporter": "python",
      "file_extension": ".py"
    }
  },
  "nbformat": 4,
  "nbformat_minor": 1
}